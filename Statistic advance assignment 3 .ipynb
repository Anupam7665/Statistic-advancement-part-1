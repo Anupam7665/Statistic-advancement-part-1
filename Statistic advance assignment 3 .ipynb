{
 "cells": [
  {
   "cell_type": "markdown",
   "id": "d7d53fbd-36fb-49dc-a36d-a0ec117329ac",
   "metadata": {},
   "source": [
    "### Q1: What is Estimation Statistics? Explain point estimate and interval estimate."
   ]
  },
  {
   "cell_type": "markdown",
   "id": "439be6d5-15c0-4875-9eca-0222b3c9037b",
   "metadata": {},
   "source": [
    "Estimation statistic is the branch of statistic that deals with estimating the unknown parameters of a population based on the sample.The goal of estimation is to provide information about population parameters, such as the mean or proportion, based on a sample of data.\n",
    "\n",
    "There are two types of estimation. 1.**Point estimation** 2.**Interval estimation**.\n",
    "\n",
    "**Point Interval :** A point estimate is a single numerical  value that is used to estimate of a unknown population parameters. \n",
    "\n",
    "For eg: The sample mean is a point estimate of the population mean.\n",
    "\n",
    "**Interval estimate :** An interval estimate is a range of values that is used to estimate  population parameter with a certian level of confidence.\n",
    "\n",
    "Foe eg : a 95% of confidence interval for the population mean is an interval that contains the true population mean with 95% probability.  "
   ]
  },
  {
   "cell_type": "markdown",
   "id": "c98a8936-666b-497a-b953-12244343c4ad",
   "metadata": {},
   "source": [
    "### Q2. Write a Python function to estimate the population mean using a sample mean and standard deviation."
   ]
  },
  {
   "cell_type": "code",
   "execution_count": 1,
   "id": "7be28fad-0fc2-48f0-a390-1f8227d5ea91",
   "metadata": {},
   "outputs": [],
   "source": [
    "import math"
   ]
  },
  {
   "cell_type": "code",
   "execution_count": 2,
   "id": "9ec7c353-85d4-45af-8a95-e126ba14097f",
   "metadata": {},
   "outputs": [],
   "source": [
    "def population_mean(sample_mean, sample_std, sample_size):\n",
    "    std_error = sample_std / math.sqrt(sample_size)\n",
    "    z_value = 1.96    # assume a 95% confidence level and use the corresponding z-value\n",
    "    margin_of_error = z_value * std_error\n",
    "    lower_bound = sample_mean - margin_of_error\n",
    "    upper_bound = sample_mean + margin_of_error\n",
    "    return (lower_bound + upper_bound) / 2"
   ]
  },
  {
   "cell_type": "code",
   "execution_count": 3,
   "id": "5237099d-8c25-49fd-bdb1-d46f63a411cc",
   "metadata": {},
   "outputs": [
    {
     "name": "stdout",
     "output_type": "stream",
     "text": [
      "Population mean: 2.0\n"
     ]
    }
   ],
   "source": [
    "result = population_mean(2, 5, 20000)\n",
    "print(f\"Population mean: {result}\")"
   ]
  },
  {
   "cell_type": "markdown",
   "id": "f32e21d9-b042-4960-a28e-8a32ff65a672",
   "metadata": {},
   "source": [
    "### Q3: What is Hypothesis testing? Why is it used? State the importance of Hypothesis testing."
   ]
  },
  {
   "cell_type": "markdown",
   "id": "33a7acba-70f1-4293-959b-25e5ebb5170d",
   "metadata": {},
   "source": [
    "Hypothesis testing is a statistical method tha tis used to make decision about the validity of a claim or a theory based on data from a sample.\n",
    "\n",
    "**It is used** to test whether there is enough data to accept or reject  hypothesis testing  about a population parameters.\n",
    "\n",
    "For Eg: In medical research , hypothesis testing can be used to determine  whether a new drug is effective in treating a disease by comparing its efffects to a placebo Also , In bussiness hypthesis testing can be used to evaluate whether a new marketing strategy is effective in incresing bussiness.\n",
    "\n",
    "**The importance of hypothesis testing**  lies in its ability to provide evidence for or against a theory or claim , and help research make informed decision based on the data.This can help researchers to draw conclusion that are baesd on evidence and minimize the risk of drawing incorrect or unsupported conclusion"
   ]
  },
  {
   "cell_type": "markdown",
   "id": "48665457-cacf-4efb-af00-80368d167899",
   "metadata": {},
   "source": [
    "### Q4. Create a hypothesis that states whether the average weight of male college students is greater than the average weight of female college students."
   ]
  },
  {
   "cell_type": "markdown",
   "id": "e3afceb7-06fa-49fc-88a5-bd8953f5af16",
   "metadata": {},
   "source": [
    "The **null hypothesis ** would be :\n",
    " \n",
    " ***H0*** : The average weight of male college student is no greater than the average weight of female college students\n",
    " \n",
    " ***H1*** : The average weight of male students is greater than the average weight of female college students  "
   ]
  },
  {
   "cell_type": "markdown",
   "id": "ab74b9a2-fcec-470e-a297-5f6a8dced95a",
   "metadata": {},
   "source": [
    "### Q5. Write a Python script to conduct a hypothesis test on the difference between two population means, given a sample from each population."
   ]
  },
  {
   "cell_type": "code",
   "execution_count": 6,
   "id": "30a2ac60-e061-4e9c-a648-7e3acc1a9ea0",
   "metadata": {},
   "outputs": [],
   "source": [
    "import numpy as np\n",
    "from scipy.stats import ttest_ind"
   ]
  },
  {
   "cell_type": "code",
   "execution_count": 9,
   "id": "8f417835-033e-4b37-bfb3-63c0150f91cc",
   "metadata": {},
   "outputs": [],
   "source": [
    "sample1 = np.random.normal(10,2,100)\n",
    "sample2 = np.random.normal(12,2,100)\n",
    "\n",
    "t_stat, p_val = ttest_ind(sample1, sample2)"
   ]
  },
  {
   "cell_type": "code",
   "execution_count": 10,
   "id": "d0d37cf3-65e1-4490-880d-d730a21534c4",
   "metadata": {},
   "outputs": [
    {
     "name": "stdout",
     "output_type": "stream",
     "text": [
      "t-statistic:  -5.88211394171107\n",
      "p-value:  1.7014066226344664e-08\n"
     ]
    }
   ],
   "source": [
    "print(\"t-statistic: \", t_stat)\n",
    "print(\"p-value: \", p_val)"
   ]
  },
  {
   "cell_type": "code",
   "execution_count": 11,
   "id": "4ca037ad-9e0f-4680-bf60-838595f22c71",
   "metadata": {},
   "outputs": [
    {
     "name": "stdout",
     "output_type": "stream",
     "text": [
      "Reject null hypothesis\n"
     ]
    }
   ],
   "source": [
    "if p_val < 0.05:\n",
    "    print(\"Reject null hypothesis\")\n",
    "else:\n",
    "    print(\"Fail to reject null hypothesis\")"
   ]
  },
  {
   "cell_type": "markdown",
   "id": "a9e62ec4-96e7-4ac3-a5e9-a08bf0582d1a",
   "metadata": {},
   "source": [
    "### Q6: What is a null and alternative hypothesis? Give some examples."
   ]
  },
  {
   "cell_type": "markdown",
   "id": "6244d4a5-5d19-424c-8d6b-f2441c21de6d",
   "metadata": {},
   "source": [
    "**Null Hypothesis(H0)**\n",
    "\n",
    "The **null hypothesis** is a statement that there is no significant effect, relationship, or difference in a population or sample.\n",
    "\n",
    "Researchers typically start with the null hypothesis and aim to test whether there is enough evidence to reject it in favour of the alternative hypthesis.\n",
    "\n",
    "For Eg: **1**. You are testing a new drug effectiveness , and ypur null hypothesis might be that the drug has no effect on the patients symptoms.\n",
    "\n",
    "**2**. The average IQ of two groups of students are equal. \n",
    "\n",
    "**Alternative Hypothesis (H1)**\n",
    "\n",
    "The **alternative hypothesis** is the statements that against the null hypothesis.\n",
    "\n",
    "If there is strong evidence against the null hypothesis, you may conclude in favour of the null hypothesis.\n",
    "\n",
    "for Eg: **1.** For the drug effectiveness study, your opnion state that the drug actually can reduce the patients symptoms. \n",
    "\n",
    "**2**. The average IQ of one group may be differ from second group"
   ]
  },
  {
   "cell_type": "markdown",
   "id": "6b576e04-03e5-4000-898d-f9ef652d2313",
   "metadata": {},
   "source": [
    "### Q7: Write down the steps involved in hypothesis testing."
   ]
  },
  {
   "cell_type": "markdown",
   "id": "b188fc8e-0cbb-4a37-836b-5acaa2780074",
   "metadata": {},
   "source": [
    "The general steps involved in hypothesis testing are:\n",
    "\n",
    "1.**State the null and alternative hypotheses:** Identify the research question and define the null and alternative hypothesis that represent the possible outcomes.\n",
    "\n",
    "2.**Determine the test statistic:** Choose an appropriate statistical test (e.g., t-test, ANOVA, chi-square) based on the research question and data type, and calculate the test statistic using the sample data.\n",
    "\n",
    "3.**Set the significance level:** Determine the level of significance (alpha) to use for the test.This is the probability of rejecting the null hypothesis when it is true and is typically set at **0.05.**\n",
    "\n",
    "4.**Calculate the p-value:** Calculate the probability of observing the test statistic or a more extreme value under the null hypothesis.\n",
    "\n",
    "5.**Make a decision:** Compare the p-value to the significance level and make a decision whether to reject or fail to reject the null hypothesis. If the p-value is less than or equal to the significance level, reject the null hypothesis; otherwise, fail to reject the null hypothesis."
   ]
  },
  {
   "cell_type": "markdown",
   "id": "16fb1803-56c9-4769-9d36-6d9466a07ef3",
   "metadata": {},
   "source": [
    "### Q8. Define p-value and explain its significance in hypothesis testing."
   ]
  },
  {
   "cell_type": "markdown",
   "id": "13794375-2c3b-4ac9-bfd1-daae59f1384f",
   "metadata": {},
   "source": [
    "**The p-value in hypothesis testing is the probability of observing a test statistic or a more extreme value, given that the null hypothesis is true **\n",
    "\n",
    "It's a number between 0 and 1 , with lower p-values indicating stronger evidence against the null hypothesis\n",
    "\n",
    "**Significance in hypothesis testing**\n",
    "\n",
    "The p-value provides a measure of the strength of evidence against the null hypothesis. A small p-value indicates strong evidence against the null hypothesis, while a large p-value indicates weak evidence against the null hypothesis.\n",
    "\n",
    "If p ≤ α (commonly set at 0.05 or 0.01), you can conclude that the data provides enough evidence to reject the null hypothesis in favor of the alternative hypothesis.\n",
    "\n",
    "If p > α, you fail to reject the null hypothesis, indicating that there isn't enough evidence to support the alternative hypothesis."
   ]
  },
  {
   "cell_type": "markdown",
   "id": "0436fc50-2cb9-4247-849b-ab112331bd63",
   "metadata": {},
   "source": [
    "### Q9. Generate a Student's t-distribution plot using Python's matplotlib library, with the degrees of freedom parameter set to 10."
   ]
  },
  {
   "cell_type": "code",
   "execution_count": 1,
   "id": "e82580e7-5831-4687-ba33-3f4aa6574c6e",
   "metadata": {},
   "outputs": [],
   "source": [
    "from scipy.stats import t\n",
    "import matplotlib.pyplot as plt"
   ]
  },
  {
   "cell_type": "code",
   "execution_count": 8,
   "id": "7d79a5bb-da16-45ed-98c7-10703f274c7d",
   "metadata": {},
   "outputs": [
    {
     "data": {
      "image/png": "[encoded data removed]",
      "text/plain": [
       "<Figure size 640x480 with 1 Axes>"
      ]
     },
     "metadata": {},
     "output_type": "display_data"
    }
   ],
   "source": [
    "x = t.rvs(df=10, size=10000)\n",
    "\n",
    "plt.hist(x, density=True, edgecolor='black', bins=20)\n",
    "plt.show()"
   ]
  },
  {
   "cell_type": "markdown",
   "id": "ce6c8a76-7d46-4f30-b81e-b06abaf80516",
   "metadata": {},
   "source": [
    "### Q10. Write a Python program to calculate the two-sample t-test for independent samples, given two random samples of equal size and a null hypothesis that the population means are equal."
   ]
  },
  {
   "cell_type": "code",
   "execution_count": 10,
   "id": "b5eb1163-d8f3-4f76-b14e-71b8a892b399",
   "metadata": {},
   "outputs": [],
   "source": [
    "import numpy as np\n",
    "from scipy.stats import ttest_ind"
   ]
  },
  {
   "cell_type": "code",
   "execution_count": 15,
   "id": "72cc8fbd-9ea2-4ce7-941a-a20a73374682",
   "metadata": {},
   "outputs": [],
   "source": [
    "sample1 = np.random.normal(10,12,100)\n",
    "sample2 = np.random.normal(12,12,100)\n",
    "t_statistic,p_value = ttest_ind(sample1 , sample2)"
   ]
  },
  {
   "cell_type": "code",
   "execution_count": 17,
   "id": "08fafcfd-ab5f-4ae2-aeeb-a584c4c18171",
   "metadata": {},
   "outputs": [
    {
     "name": "stdout",
     "output_type": "stream",
     "text": [
      "-0.3431715853546491\n",
      "0.7318334640946602\n"
     ]
    }
   ],
   "source": [
    "print(t_statistic)\n",
    "print(p_value)"
   ]
  },
  {
   "cell_type": "code",
   "execution_count": 19,
   "id": "ae20bd64-073e-44cb-888c-fde880642d3e",
   "metadata": {},
   "outputs": [
    {
     "name": "stdout",
     "output_type": "stream",
     "text": [
      "Fail to reject the null hypothesis\n"
     ]
    }
   ],
   "source": [
    "alpha = 0.5\n",
    "if p_value < alpha:\n",
    "    print(\"Reject the null hypothesis\")\n",
    "else:\n",
    "    print(\"Fail to reject the null hypothesis\")"
   ]
  },
  {
   "cell_type": "markdown",
   "id": "cd6d40f3-e720-462e-b8f3-ec1b972eb462",
   "metadata": {},
   "source": [
    "### Q11: What is Student’s t distribution? When to use the t-Distribution."
   ]
  },
  {
   "cell_type": "markdown",
   "id": "3c497959-791f-4577-9939-2873358c35c6",
   "metadata": {},
   "source": [
    "**Student's t distribution** is a way of describing how data are spread out around the average value.It is similar to the normal distribution , which is a bell-shaped curve, but it has more data in the ends of the curve.It is also a probability distribution that is used in hypothesis testing when the sample size is small and the population standard deviation is unknown\n",
    "\n",
    "**The t-distribution is used** in situation where the population standard deviation is unknown and must be estiamted from the sample data. The t-distribution has a parameter called the degree of the freedom, which is related to the sample size. The larger sample size, the more degree of the freedom, and the closer t-distribution is to the normal distribution.When the sample size is very large, the t distribution and the normal distribution are almost the same."
   ]
  },
  {
   "cell_type": "markdown",
   "id": "b5360cba-43e1-4bf2-ab9e-84b87b372977",
   "metadata": {},
   "source": [
    "### Q12: What is t-statistic? State the formula for t-statistic."
   ]
  },
  {
   "cell_type": "markdown",
   "id": "cefed993-2d14-414d-bbc7-c80db6ea4108",
   "metadata": {},
   "source": [
    "A t-statistic is a number that measures how far a sample mean is from the population mean, relative to the variation in the sample. The t-statistic also known as the t-value,It is measure used i statistic ot determine if the difference between th means of two groups is significant.\n",
    "\n",
    "In simple terms, the t-statistic tells us how amny standard error your sample mean is away from the population mean.A larger t-statistic indicates a more significant difference between your sample and the population.\n",
    "\n",
    "                \n",
    "The formula for the t-statistic is:\n",
    "\n",
    " \n",
    "\n",
    "$$t = \\frac{\\bar{x} - \\mu}{s / \\sqrt{n}}$$\n",
    "\n",
    "where:\n",
    "\n",
    "- $t$ is the t-statistic\n",
    "- $\\bar{x}$ is the sample mean\n",
    "- $\\mu$ is the population mean (or another value)\n",
    "- $s$ is the sample standard deviation\n",
    "- $n$ is the sample size\n",
    "- $\\sqrt{n}$ is the square root of $n$"
   ]
  },
  {
   "cell_type": "markdown",
   "id": "d06c918c-4573-4865-a5cc-7585aa44c57b",
   "metadata": {},
   "source": [
    "### Q13. A coffee shop owner wants to estimate the average daily revenue for their shop. They take a random sample of 50 days and find the sample mean revenue to be $500 with a standard deviation of $50. Estimate the population mean revenue with a 95% confidence interval."
   ]
  },
  {
   "cell_type": "markdown",
   "id": "481b8492-9ccc-4606-941a-a423178d3f09",
   "metadata": {},
   "source": [
    "To estimate the population mean revenue with a 95% confidence interval, we can use the following formula:\n",
    "\n",
    "   **Confidence Interval** = sample mean ± margin of error\n",
    " \n",
    " where the margin of error is given by:\n",
    "  \n",
    "   **Margin of Error** = critical value * standard error    \n",
    "   \n",
    "The standard error is the standard deviation of the sample divided by the square root of the sample size:\n",
    "\n",
    "   **Standard Error** = standard deviation / sqrt(sample size)\n",
    "   \n",
    "Substituting the values given in the problem statement, we get:\n",
    "\n",
    "   **Standard Error** = 50/√50 = 7.07\n",
    "   \n",
    "**Margin of Error** = 1.96*7.07 = 13.85\n",
    "\n",
    "Therefore, the 95% confidence interval for the population mean revenue is:\n",
    "\n",
    "   500+-13.85, or (486.15,513.85)\n",
    "   \n",
    "We can be 95% confident that the true population mean revenue falls within this interval.   "
   ]
  },
  {
   "cell_type": "markdown",
   "id": "4eb108eb-d0ac-4844-9b9e-5548e8d120d0",
   "metadata": {},
   "source": [
    "### Q14. A researcher hypothesizes that a new drug will decrease blood pressure by 10 mmHg. They conduct a clinical trial with 100 patients and find that the sample mean decrease in blood pressure is 8 mmHg with a standard deviation of 3 mmHg. Test the hypothesis with a significance level of 0.05."
   ]
  },
  {
   "cell_type": "markdown",
   "id": "8c65063c-6cfa-4c8a-9575-35437063113f",
   "metadata": {},
   "source": [
    "The following values are given in the question:\n",
    "\n",
    "**Population Mean** = 10\n",
    "\n",
    "**Sample Size = n** = 100\n",
    "\n",
    "**Sample Mean** = 8\n",
    "\n",
    "**Standard Deviation** = 3\n",
    "\n",
    "**Significance Level** = 0.05\n",
    "\n",
    "**Confidence Interval** = 0.95\n",
    "\n",
    "My null and alternate hypothesis are as follows:\n",
    "\n",
    "H0 => Population Mean = 10\n",
    "\n",
    "H1=> Population Mean != 10\n",
    "\n",
    "From utilizing z-table i obtained values for z-score:\n",
    "\n",
    "z-score = +-1.96\n",
    "\n",
    "I got the following value:\n",
    "\n",
    "-0.66\n",
    "\n",
    "As -0.66 lies outside the region ± 1.96, that means it lies in the rejection region.\n",
    "\n",
    "So my final conclusion is: **Reject the null hypothesis**"
   ]
  },
  {
   "cell_type": "markdown",
   "id": "556ebbb3-638a-4cd8-ae49-37203e2ac9d2",
   "metadata": {},
   "source": [
    "### Q15. An electronics company produces a certain type of product with a mean weight of 5 pounds and a standard deviation of 0.5 pounds. A random sample of 25 products is taken, and the sample mean weight is found to be 4.8 pounds. Test the hypothesis that the true mean weight of the products is less than 5 pounds with a significance level of 0.01."
   ]
  },
  {
   "cell_type": "markdown",
   "id": "c80428e4-b463-49a5-8f29-f41adee18660",
   "metadata": {},
   "source": [
    "The following values are given in the question:\n",
    "\n",
    "Population Mean = 5\n",
    "\n",
    "Sample Size = n = 25\n",
    "\n",
    "Sample Mean = 4.8\n",
    "\n",
    "Standard Deviation = 0.5\n",
    "\n",
    "Significance Level = 0.01\n",
    "\n",
    "Confidence Interval = 0.99\n",
    "\n",
    "My null and alternate hypothesis are as follows:\n",
    "\n",
    "H0=> Population Mean = 5\n",
    "\n",
    "H1=> Population Mean < 5\n",
    "\n",
    "I got the following value:\n",
    "\n",
    "-2\n",
    "\n",
    "From utilizing z-table I obtained values for z-score of -2 is 0.02275.\n",
    "\n",
    "Which also becomes my p-value 0.02275.\n",
    "\n",
    "Then i checked whether p-value < significance value\n",
    "\n",
    "0.02775 < 0.01 False\n",
    "\n",
    "So my final conclusion was: **Failed to reject null hypothesis**"
   ]
  },
  {
   "cell_type": "markdown",
   "id": "958412b5-8470-4707-b4f1-ede8ef58b24d",
   "metadata": {},
   "source": [
    "### Q16. Two groups of students are given different study materials to prepare for a test. The first group (n1 = 30) has a mean score of 80 with a standard deviation of 10, and the second group (n2 = 40) has a mean score of 75 with a standard deviation of 8. Test the hypothesis that the population means for the two groups are equal with a significance level of 0.01."
   ]
  },
  {
   "cell_type": "markdown",
   "id": "4c61218d-ee9c-4ac6-ade7-f569678e472d",
   "metadata": {},
   "source": [
    "My null and alternate hypothesis are as follows:\n",
    "\n",
    "H0=> Population Mean of Group 1 = Population Mean of Group 2\n",
    "H1=> Population Mean of Group 1 != Population Mean of Group 2\n",
    "\n",
    "I got the value of t as t = 2.37.\n",
    "\n",
    "Then I utilized t-table to look for the value of t for the following parameters:\n",
    "\n",
    "Degrees of Freedom = 68\n",
    "Significance Value = 0.01\n",
    "\n",
    "I got the following value of t format the table t = ± 2.638.\n",
    "\n",
    "**Since 2.37 lies in the region ±2.638 so, the final conclusion was:**\n",
    "\n",
    "**Failed to reject null hypothesis**\n",
    "\n",
    "**Population mean for two groups are equal**"
   ]
  },
  {
   "cell_type": "markdown",
   "id": "9eb740b1-31aa-489b-92a2-6d11871420b2",
   "metadata": {},
   "source": [
    "### Q17. A marketing company wants to estimate the average number of ads watched by viewers during a TV program. They take a random sample of 50 viewers and find that the sample mean"
   ]
  },
  {
   "cell_type": "markdown",
   "id": "82a5e924-adf9-4b46-ba92-62036db9f36b",
   "metadata": {},
   "source": [
    "To estimate the population mean with a 99% confidence interval, we can use the following formula:\n",
    "\n",
    "Confidence Interval = x(+/-)z*(s/√n)\n",
    "           \n",
    "\n",
    "CI\t=\tconfidence interval\n",
    "\n",
    "\\bar{x}\t=\tsample mean\n",
    "\n",
    "z\t=\tconfidence level value\n",
    "\n",
    "{s}\t=\tsample standard deviation\n",
    "\n",
    "{n}\t=\tsample size  \n",
    "\n",
    "To find the z-score, we can use a standard normal distribution table. For a 99% confidence level, the z-score is 2.576.\n",
    "\n",
    "Plugging in the values, we get:\n",
    "\n",
    "CI = 4 ± 2.576*(1.5/√50)\n",
    "\n",
    "CI = 4 ± 0.665\n",
    "\n",
    "Therefore, the 99% confidence interval for the population mean of the number of ads watched by viewers during a TV program is (3.335, 4.665). We are 99% confident that the true population mean falls within this interval."
   ]
  },
  {
   "cell_type": "code",
   "execution_count": null,
   "id": "24026b07-eb60-4e7c-93c2-377217c40833",
   "metadata": {},
   "outputs": [],
   "source": []
  }
 ],
 "metadata": {
  "kernelspec": {
   "display_name": "Python 3 (ipykernel)",
   "language": "python",
   "name": "python3"
  },
  "language_info": {
   "codemirror_mode": {
    "name": "ipython",
    "version": 3
   },
   "file_extension": ".py",
   "mimetype": "text/x-python",
   "name": "python",
   "nbconvert_exporter": "python",
   "pygments_lexer": "ipython3",
   "version": "3.10.8"
  }
 },
 "nbformat": 4,
 "nbformat_minor": 5
}
